{
 "cells": [
  {
   "cell_type": "code",
   "execution_count": 91,
   "id": "e0b08f13",
   "metadata": {},
   "outputs": [
    {
     "name": "stdout",
     "output_type": "stream",
     "text": [
      "%pylab is deprecated, use %matplotlib inline and import the required libraries.\n",
      "Populating the interactive namespace from numpy and matplotlib\n"
     ]
    }
   ],
   "source": [
    "%pylab inline"
   ]
  },
  {
   "cell_type": "code",
   "execution_count": 92,
   "id": "48296446",
   "metadata": {},
   "outputs": [],
   "source": [
    "from pandas import *"
   ]
  },
  {
   "cell_type": "code",
   "execution_count": 257,
   "id": "aaf814a7",
   "metadata": {},
   "outputs": [
    {
     "data": {
      "text/plain": [
       "<matplotlib.image.AxesImage at 0x17148fd39d0>"
      ]
     },
     "execution_count": 257,
     "metadata": {},
     "output_type": "execute_result"
    },
    {
     "data": {
      "image/png": "[encoded data removed]",
      "text/plain": [
       "<Figure size 432x288 with 1 Axes>"
      ]
     },
     "metadata": {
      "needs_background": "light"
     },
     "output_type": "display_data"
    }
   ],
   "source": [
    "def make_maze(w = 16, h = 8):\n",
    "    vis = [[0] * w + [1] for _ in range(h)] + [[1] * (w + 1)]\n",
    "    ver = [[\"10\"] * w + ['1'] for _ in range(h)] + [[]]\n",
    "    hor = [[\"11\"] * w + ['1'] for _ in range(h + 1)]\n",
    " \n",
    "    def walk(x, y):\n",
    "        vis[y][x] = 1\n",
    " \n",
    "        d = [(x - 1, y), (x, y + 1), (x + 1, y), (x, y - 1)]\n",
    "        shuffle(d)\n",
    "        for (xx, yy) in d:\n",
    "            if vis[yy][xx]: continue\n",
    "            if xx == x: hor[max(y, yy)][x] = \"10\"\n",
    "            if yy == y: ver[y][max(x, xx)] = \"00\"\n",
    "            walk(xx, yy)\n",
    " \n",
    "    walk(numpy.random.randint(w), numpy.random.randint(h))\n",
    " \n",
    "    s = \"\"\n",
    "    for (a, b) in zip(hor, ver):\n",
    "        s += ''.join(a + ['\\n'] + b + ['\\n'])\n",
    "        \n",
    "    M=[]\n",
    "    for line in s.split(\"\\n\"):\n",
    "        if line!=\"\":\n",
    "            R=[]\n",
    "            for e in line:\n",
    "                R.append(int(e))\n",
    "            M.append(R)\n",
    "    return M\n",
    " \n",
    "maze=numpy.array(make_maze(8,8))\n",
    "imshow(maze)\n",
    "\n",
    "#maze[]"
   ]
  },
  {
   "cell_type": "code",
   "execution_count": 111,
   "id": "b4eca811",
   "metadata": {},
   "outputs": [
    {
     "name": "stdout",
     "output_type": "stream",
     "text": [
      "[[1 1 1 1 1 1 1 1 1 1 1 1 1 1 1 1 1]\n",
      " [1 0 0 0 0 0 1 0 0 0 0 0 0 0 0 0 1]\n",
      " [1 0 1 1 1 0 1 0 1 1 1 1 1 1 1 0 1]\n",
      " [1 0 0 0 1 0 1 0 0 0 0 0 1 0 1 0 1]\n",
      " [1 0 1 1 1 0 1 1 1 1 1 1 1 0 1 0 1]\n",
      " [1 0 1 0 0 0 0 0 1 0 0 0 1 0 0 0 1]\n",
      " [1 0 1 0 1 1 1 1 1 0 1 0 1 0 1 1 1]\n",
      " [1 0 1 0 0 0 0 0 1 0 1 0 1 0 1 0 1]\n",
      " [1 0 1 1 1 1 1 0 1 0 1 0 1 0 1 0 1]\n",
      " [1 0 1 0 0 0 1 0 0 0 1 0 1 0 0 0 1]\n",
      " [1 0 1 0 1 1 1 1 1 0 1 0 1 1 1 0 1]\n",
      " [1 0 1 0 1 0 0 0 1 0 1 0 1 0 0 0 1]\n",
      " [1 0 1 0 1 0 1 0 1 1 1 0 1 0 1 1 1]\n",
      " [1 0 0 0 1 0 1 0 0 0 0 0 1 0 1 0 1]\n",
      " [1 1 1 0 1 0 1 1 1 1 1 1 1 0 1 0 1]\n",
      " [1 0 0 0 1 0 0 0 0 0 0 0 0 0 0 0 1]\n",
      " [1 1 1 1 1 1 1 1 1 1 1 1 1 1 1 1 1]]\n"
     ]
    }
   ],
   "source": [
    "print(maze)"
   ]
  },
  {
   "cell_type": "code",
   "execution_count": 261,
   "id": "304f3b31",
   "metadata": {
    "scrolled": false
   },
   "outputs": [
    {
     "name": "stdout",
     "output_type": "stream",
     "text": [
      "160\n"
     ]
    },
    {
     "data": {
      "text/plain": [
       "[<matplotlib.lines.Line2D at 0x1714a1580a0>]"
      ]
     },
     "execution_count": 261,
     "metadata": {},
     "output_type": "execute_result"
    },
    {
     "data": {
      "image/png": "[encoded data removed]",
      "text/plain": [
       "<Figure size 432x288 with 1 Axes>"
      ]
     },
     "metadata": {
      "needs_background": "light"
     },
     "output_type": "display_data"
    }
   ],
   "source": [
    "# Skapa en 2-dimensionell array som är 17*17 stor och innehåller fyra värden 0.25 0.25 0.25 och 0.25 som\n",
    "# används som odds att gå i en viss riktning\n",
    "policy=numpy.ones((17,17,4))/4.0\n",
    "\n",
    "# Anger hur stor skillnad oddsen som ska ske när den lär sig\n",
    "learningRate=0.1\n",
    "\n",
    "# Variabel för att spara det försök som gick i mål på färst steg\n",
    "fastestRun=1000000\n",
    "\n",
    "\n",
    "# Variabel för att spara hur många steg det tog att nå målet på varje försök\n",
    "L=[]\n",
    "\n",
    "for runs in range(1000):\n",
    "    # En array med samma storlek som labyrinten för att spara om en ruta är besökt eller inte\n",
    "    visited=numpy.zeros((17,17))\n",
    "\n",
    "    # Start\n",
    "    x=1\n",
    "    # Mål\n",
    "    y=1\n",
    "\n",
    "    # Arrayer\n",
    "    xm=[0,1,0,-1]\n",
    "    ym=[1,0,-1,0]\n",
    "\n",
    "    #arrayer för att spara positioner som den har varit på\n",
    "    trackX=[x]\n",
    "    trackY=[y]\n",
    "    \n",
    "    #arrayer för vart man inte kan gå \n",
    "    wallTrackX=[]\n",
    "    wallTrackY=[]\n",
    "\n",
    "    #arrayer för att spara actions och errors\n",
    "    actions=[]\n",
    "    walls=[]\n",
    "    \n",
    "    #två dimensionell array för att säga att startpositionen är visited\n",
    "    visited[x][y]=1\n",
    "    \n",
    "    #while loop som säger att den ska köras till x och y positionen är 15\n",
    "    while not (x==15 and y==15):\n",
    "        #random choice i vilket den ska gå\n",
    "        direction=numpy.random.choice([0,1,2,3], p=policy[x][y])\n",
    "        tx=x+xm[direction]\n",
    "        ty=y+ym[direction]\n",
    "        #Kollar att det är ett godkänt action, dvs det är ingen vägg\n",
    "        if maze[tx][ty]==0:\n",
    "            x=tx\n",
    "            y=ty\n",
    "            visited[x][y]+=1\n",
    "            trackX.append(x)\n",
    "            trackY.append(y)\n",
    "            actions.append(direction)    \n",
    "        else:\n",
    "            #är det en vägg lägger vi in den i error för att den inte ska försöka senare\n",
    "            wallTrackX.append(tx)\n",
    "            wallTrackY.append(ty)\n",
    "            walls.append(direction)\n",
    "  \n",
    "    \n",
    "    #om vi har besökt en ruta mer än en gång sätter vi optimal path till False. Den kan alltså bättre\n",
    "    bestSolution = True\n",
    "    for i in range(len(visited)):\n",
    "        for j in range(len(visited[i])):\n",
    "            if visited[i][j] > 1:\n",
    "                bestSolution = False\n",
    "                break\n",
    "            \n",
    "    # om den är den går till mål på färre steg än den snabbaste ökar vi learningrate för denna lösning\n",
    "    if len(actions) <= fastestRun * 1.75:\n",
    "        if len(actions) < fastestRun:\n",
    "            fastestRun = len(actions)\n",
    "        for i in range(len(actions)):\n",
    "            policy[trackX[i]][trackY[i]][actions[i]]+=learningRate\n",
    "    #om den har försökt gå in i väggar minskar vi sänker vi learningraten till 0 för de movsen\n",
    "        for i in range(len(walls)):\n",
    "                policy[wallTrackX[i]][wallTrackY[i]][walls[i]] = 0    \n",
    "            \n",
    "\n",
    "        for i in range(17):\n",
    "            for j in range(17):\n",
    "                policy[i][j]/=policy[i][j].sum()\n",
    "\n",
    "    L.append(len(actions))\n",
    "    \n",
    "   \n",
    "    #om vi har hittat den bästa vägen, dvs vi besöker enbart rutan en gång sätter vi bestSolution till\n",
    "    # True, gör laddtiden bättre. \n",
    "    if bestSolution:\n",
    "        print(runs)\n",
    "        break\n",
    "        \n",
    "\n",
    "\n",
    "plot(L)"
   ]
  },
  {
   "cell_type": "code",
   "execution_count": 262,
   "id": "d362471f",
   "metadata": {},
   "outputs": [
    {
     "name": "stdout",
     "output_type": "stream",
     "text": [
      "64\n",
      "[9.99999191e-01 8.09309648e-07 8.20563990e-12 8.20563990e-12]\n"
     ]
    },
    {
     "data": {
      "image/png": "[encoded data removed]",
      "text/plain": [
       "<Figure size 432x288 with 1 Axes>"
      ]
     },
     "metadata": {
      "needs_background": "light"
     },
     "output_type": "display_data"
    }
   ],
   "source": [
    "imshow(visited)\n",
    "print(len(actions))\n",
    "print(policy[1][1])"
   ]
  },
  {
   "cell_type": "code",
   "execution_count": 263,
   "id": "7f8c0f33",
   "metadata": {},
   "outputs": [
    {
     "data": {
      "text/plain": [
       "<matplotlib.image.AxesImage at 0x1714a1d8100>"
      ]
     },
     "execution_count": 263,
     "metadata": {},
     "output_type": "execute_result"
    },
    {
     "data": {
      "image/png": "[encoded data removed]",
      "text/plain": [
       "<Figure size 432x288 with 1 Axes>"
      ]
     },
     "metadata": {
      "needs_background": "light"
     },
     "output_type": "display_data"
    }
   ],
   "source": [
    "imshow(policy)"
   ]
  }
 ],
 "metadata": {
  "kernelspec": {
   "display_name": "Python 3 (ipykernel)",
   "language": "python",
   "name": "python3"
  },
  "language_info": {
   "codemirror_mode": {
    "name": "ipython",
    "version": 3
   },
   "file_extension": ".py",
   "mimetype": "text/x-python",
   "name": "python",
   "nbconvert_exporter": "python",
   "pygments_lexer": "ipython3",
   "version": "3.9.12"
  }
 },
 "nbformat": 4,
 "nbformat_minor": 5
}
